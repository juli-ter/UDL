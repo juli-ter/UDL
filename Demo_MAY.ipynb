{
  "nbformat": 4,
  "nbformat_minor": 0,
  "metadata": {
    "colab": {
      "provenance": [],
      "authorship_tag": "ABX9TyMofO3rugoyRGUOy7S9TvvW",
      "include_colab_link": true
    },
    "kernelspec": {
      "name": "python3",
      "display_name": "Python 3"
    },
    "language_info": {
      "name": "python"
    }
  },
  "cells": [
    {
      "cell_type": "markdown",
      "metadata": {
        "id": "view-in-github",
        "colab_type": "text"
      },
      "source": [
        "<a href=\"https://colab.research.google.com/github/juli-ter/UDL/blob/main/Demo_MAY.ipynb\" target=\"_parent\"><img src=\"https://colab.research.google.com/assets/colab-badge.svg\" alt=\"Open In Colab\"/></a>"
      ]
    },
    {
      "cell_type": "markdown",
      "source": [
        "## Demo for the 7 and 8 chapter"
      ],
      "metadata": {
        "id": "2psljmui3ebn"
      }
    },
    {
      "cell_type": "markdown",
      "source": [
        "###BackProp"
      ],
      "metadata": {
        "id": "UJu5u1u93n39"
      }
    },
    {
      "cell_type": "code",
      "execution_count": 2,
      "metadata": {
        "colab": {
          "base_uri": "https://localhost:8080/"
        },
        "collapsed": true,
        "id": "PpTwA5Et3cOq",
        "outputId": "6f0de5f2-4638-40b5-dfbd-2d6101d4904f"
      },
      "outputs": [
        {
          "output_type": "stream",
          "name": "stdout",
          "text": [
            "Requirement already satisfied: torch in /usr/local/lib/python3.11/dist-packages (2.6.0+cu124)\n",
            "Requirement already satisfied: torchvision in /usr/local/lib/python3.11/dist-packages (0.21.0+cu124)\n",
            "Requirement already satisfied: filelock in /usr/local/lib/python3.11/dist-packages (from torch) (3.18.0)\n",
            "Requirement already satisfied: typing-extensions>=4.10.0 in /usr/local/lib/python3.11/dist-packages (from torch) (4.13.2)\n",
            "Requirement already satisfied: networkx in /usr/local/lib/python3.11/dist-packages (from torch) (3.4.2)\n",
            "Requirement already satisfied: jinja2 in /usr/local/lib/python3.11/dist-packages (from torch) (3.1.6)\n",
            "Requirement already satisfied: fsspec in /usr/local/lib/python3.11/dist-packages (from torch) (2025.3.2)\n",
            "Collecting nvidia-cuda-nvrtc-cu12==12.4.127 (from torch)\n",
            "  Downloading nvidia_cuda_nvrtc_cu12-12.4.127-py3-none-manylinux2014_x86_64.whl.metadata (1.5 kB)\n",
            "Collecting nvidia-cuda-runtime-cu12==12.4.127 (from torch)\n",
            "  Downloading nvidia_cuda_runtime_cu12-12.4.127-py3-none-manylinux2014_x86_64.whl.metadata (1.5 kB)\n",
            "Collecting nvidia-cuda-cupti-cu12==12.4.127 (from torch)\n",
            "  Downloading nvidia_cuda_cupti_cu12-12.4.127-py3-none-manylinux2014_x86_64.whl.metadata (1.6 kB)\n",
            "Collecting nvidia-cudnn-cu12==9.1.0.70 (from torch)\n",
            "  Downloading nvidia_cudnn_cu12-9.1.0.70-py3-none-manylinux2014_x86_64.whl.metadata (1.6 kB)\n",
            "Collecting nvidia-cublas-cu12==12.4.5.8 (from torch)\n",
            "  Downloading nvidia_cublas_cu12-12.4.5.8-py3-none-manylinux2014_x86_64.whl.metadata (1.5 kB)\n",
            "Collecting nvidia-cufft-cu12==11.2.1.3 (from torch)\n",
            "  Downloading nvidia_cufft_cu12-11.2.1.3-py3-none-manylinux2014_x86_64.whl.metadata (1.5 kB)\n",
            "Collecting nvidia-curand-cu12==10.3.5.147 (from torch)\n",
            "  Downloading nvidia_curand_cu12-10.3.5.147-py3-none-manylinux2014_x86_64.whl.metadata (1.5 kB)\n",
            "Collecting nvidia-cusolver-cu12==11.6.1.9 (from torch)\n",
            "  Downloading nvidia_cusolver_cu12-11.6.1.9-py3-none-manylinux2014_x86_64.whl.metadata (1.6 kB)\n",
            "Collecting nvidia-cusparse-cu12==12.3.1.170 (from torch)\n",
            "  Downloading nvidia_cusparse_cu12-12.3.1.170-py3-none-manylinux2014_x86_64.whl.metadata (1.6 kB)\n",
            "Requirement already satisfied: nvidia-cusparselt-cu12==0.6.2 in /usr/local/lib/python3.11/dist-packages (from torch) (0.6.2)\n",
            "Requirement already satisfied: nvidia-nccl-cu12==2.21.5 in /usr/local/lib/python3.11/dist-packages (from torch) (2.21.5)\n",
            "Requirement already satisfied: nvidia-nvtx-cu12==12.4.127 in /usr/local/lib/python3.11/dist-packages (from torch) (12.4.127)\n",
            "Collecting nvidia-nvjitlink-cu12==12.4.127 (from torch)\n",
            "  Downloading nvidia_nvjitlink_cu12-12.4.127-py3-none-manylinux2014_x86_64.whl.metadata (1.5 kB)\n",
            "Requirement already satisfied: triton==3.2.0 in /usr/local/lib/python3.11/dist-packages (from torch) (3.2.0)\n",
            "Requirement already satisfied: sympy==1.13.1 in /usr/local/lib/python3.11/dist-packages (from torch) (1.13.1)\n",
            "Requirement already satisfied: mpmath<1.4,>=1.1.0 in /usr/local/lib/python3.11/dist-packages (from sympy==1.13.1->torch) (1.3.0)\n",
            "Requirement already satisfied: numpy in /usr/local/lib/python3.11/dist-packages (from torchvision) (2.0.2)\n",
            "Requirement already satisfied: pillow!=8.3.*,>=5.3.0 in /usr/local/lib/python3.11/dist-packages (from torchvision) (11.2.1)\n",
            "Requirement already satisfied: MarkupSafe>=2.0 in /usr/local/lib/python3.11/dist-packages (from jinja2->torch) (3.0.2)\n",
            "Downloading nvidia_cublas_cu12-12.4.5.8-py3-none-manylinux2014_x86_64.whl (363.4 MB)\n",
            "\u001b[2K   \u001b[90m━━━━━━━━━━━━━━━━━━━━━━━━━━━━━━━━━━━━━━━━\u001b[0m \u001b[32m363.4/363.4 MB\u001b[0m \u001b[31m4.3 MB/s\u001b[0m eta \u001b[36m0:00:00\u001b[0m\n",
            "\u001b[?25hDownloading nvidia_cuda_cupti_cu12-12.4.127-py3-none-manylinux2014_x86_64.whl (13.8 MB)\n",
            "\u001b[2K   \u001b[90m━━━━━━━━━━━━━━━━━━━━━━━━━━━━━━━━━━━━━━━━\u001b[0m \u001b[32m13.8/13.8 MB\u001b[0m \u001b[31m56.6 MB/s\u001b[0m eta \u001b[36m0:00:00\u001b[0m\n",
            "\u001b[?25hDownloading nvidia_cuda_nvrtc_cu12-12.4.127-py3-none-manylinux2014_x86_64.whl (24.6 MB)\n",
            "\u001b[2K   \u001b[90m━━━━━━━━━━━━━━━━━━━━━━━━━━━━━━━━━━━━━━━━\u001b[0m \u001b[32m24.6/24.6 MB\u001b[0m \u001b[31m53.8 MB/s\u001b[0m eta \u001b[36m0:00:00\u001b[0m\n",
            "\u001b[?25hDownloading nvidia_cuda_runtime_cu12-12.4.127-py3-none-manylinux2014_x86_64.whl (883 kB)\n",
            "\u001b[2K   \u001b[90m━━━━━━━━━━━━━━━━━━━━━━━━━━━━━━━━━━━━━━━━\u001b[0m \u001b[32m883.7/883.7 kB\u001b[0m \u001b[31m27.9 MB/s\u001b[0m eta \u001b[36m0:00:00\u001b[0m\n",
            "\u001b[?25hDownloading nvidia_cudnn_cu12-9.1.0.70-py3-none-manylinux2014_x86_64.whl (664.8 MB)\n",
            "\u001b[2K   \u001b[90m━━━━━━━━━━━━━━━━━━━━━━━━━━━━━━━━━━━━━━━━\u001b[0m \u001b[32m664.8/664.8 MB\u001b[0m \u001b[31m2.9 MB/s\u001b[0m eta \u001b[36m0:00:00\u001b[0m\n",
            "\u001b[?25hDownloading nvidia_cufft_cu12-11.2.1.3-py3-none-manylinux2014_x86_64.whl (211.5 MB)\n",
            "\u001b[2K   \u001b[90m━━━━━━━━━━━━━━━━━━━━━━━━━━━━━━━━━━━━━━━━\u001b[0m \u001b[32m211.5/211.5 MB\u001b[0m \u001b[31m5.7 MB/s\u001b[0m eta \u001b[36m0:00:00\u001b[0m\n",
            "\u001b[?25hDownloading nvidia_curand_cu12-10.3.5.147-py3-none-manylinux2014_x86_64.whl (56.3 MB)\n",
            "\u001b[2K   \u001b[90m━━━━━━━━━━━━━━━━━━━━━━━━━━━━━━━━━━━━━━━━\u001b[0m \u001b[32m56.3/56.3 MB\u001b[0m \u001b[31m12.8 MB/s\u001b[0m eta \u001b[36m0:00:00\u001b[0m\n",
            "\u001b[?25hDownloading nvidia_cusolver_cu12-11.6.1.9-py3-none-manylinux2014_x86_64.whl (127.9 MB)\n",
            "\u001b[2K   \u001b[90m━━━━━━━━━━━━━━━━━━━━━━━━━━━━━━━━━━━━━━━━\u001b[0m \u001b[32m127.9/127.9 MB\u001b[0m \u001b[31m7.4 MB/s\u001b[0m eta \u001b[36m0:00:00\u001b[0m\n",
            "\u001b[?25hDownloading nvidia_cusparse_cu12-12.3.1.170-py3-none-manylinux2014_x86_64.whl (207.5 MB)\n",
            "\u001b[2K   \u001b[90m━━━━━━━━━━━━━━━━━━━━━━━━━━━━━━━━━━━━━━━━\u001b[0m \u001b[32m207.5/207.5 MB\u001b[0m \u001b[31m5.5 MB/s\u001b[0m eta \u001b[36m0:00:00\u001b[0m\n",
            "\u001b[?25hDownloading nvidia_nvjitlink_cu12-12.4.127-py3-none-manylinux2014_x86_64.whl (21.1 MB)\n",
            "\u001b[2K   \u001b[90m━━━━━━━━━━━━━━━━━━━━━━━━━━━━━━━━━━━━━━━━\u001b[0m \u001b[32m21.1/21.1 MB\u001b[0m \u001b[31m62.9 MB/s\u001b[0m eta \u001b[36m0:00:00\u001b[0m\n",
            "\u001b[?25hInstalling collected packages: nvidia-nvjitlink-cu12, nvidia-curand-cu12, nvidia-cufft-cu12, nvidia-cuda-runtime-cu12, nvidia-cuda-nvrtc-cu12, nvidia-cuda-cupti-cu12, nvidia-cublas-cu12, nvidia-cusparse-cu12, nvidia-cudnn-cu12, nvidia-cusolver-cu12\n",
            "  Attempting uninstall: nvidia-nvjitlink-cu12\n",
            "    Found existing installation: nvidia-nvjitlink-cu12 12.5.82\n",
            "    Uninstalling nvidia-nvjitlink-cu12-12.5.82:\n",
            "      Successfully uninstalled nvidia-nvjitlink-cu12-12.5.82\n",
            "  Attempting uninstall: nvidia-curand-cu12\n",
            "    Found existing installation: nvidia-curand-cu12 10.3.6.82\n",
            "    Uninstalling nvidia-curand-cu12-10.3.6.82:\n",
            "      Successfully uninstalled nvidia-curand-cu12-10.3.6.82\n",
            "  Attempting uninstall: nvidia-cufft-cu12\n",
            "    Found existing installation: nvidia-cufft-cu12 11.2.3.61\n",
            "    Uninstalling nvidia-cufft-cu12-11.2.3.61:\n",
            "      Successfully uninstalled nvidia-cufft-cu12-11.2.3.61\n",
            "  Attempting uninstall: nvidia-cuda-runtime-cu12\n",
            "    Found existing installation: nvidia-cuda-runtime-cu12 12.5.82\n",
            "    Uninstalling nvidia-cuda-runtime-cu12-12.5.82:\n",
            "      Successfully uninstalled nvidia-cuda-runtime-cu12-12.5.82\n",
            "  Attempting uninstall: nvidia-cuda-nvrtc-cu12\n",
            "    Found existing installation: nvidia-cuda-nvrtc-cu12 12.5.82\n",
            "    Uninstalling nvidia-cuda-nvrtc-cu12-12.5.82:\n",
            "      Successfully uninstalled nvidia-cuda-nvrtc-cu12-12.5.82\n",
            "  Attempting uninstall: nvidia-cuda-cupti-cu12\n",
            "    Found existing installation: nvidia-cuda-cupti-cu12 12.5.82\n",
            "    Uninstalling nvidia-cuda-cupti-cu12-12.5.82:\n",
            "      Successfully uninstalled nvidia-cuda-cupti-cu12-12.5.82\n",
            "  Attempting uninstall: nvidia-cublas-cu12\n",
            "    Found existing installation: nvidia-cublas-cu12 12.5.3.2\n",
            "    Uninstalling nvidia-cublas-cu12-12.5.3.2:\n",
            "      Successfully uninstalled nvidia-cublas-cu12-12.5.3.2\n",
            "  Attempting uninstall: nvidia-cusparse-cu12\n",
            "    Found existing installation: nvidia-cusparse-cu12 12.5.1.3\n",
            "    Uninstalling nvidia-cusparse-cu12-12.5.1.3:\n",
            "      Successfully uninstalled nvidia-cusparse-cu12-12.5.1.3\n",
            "  Attempting uninstall: nvidia-cudnn-cu12\n",
            "    Found existing installation: nvidia-cudnn-cu12 9.3.0.75\n",
            "    Uninstalling nvidia-cudnn-cu12-9.3.0.75:\n",
            "      Successfully uninstalled nvidia-cudnn-cu12-9.3.0.75\n",
            "  Attempting uninstall: nvidia-cusolver-cu12\n",
            "    Found existing installation: nvidia-cusolver-cu12 11.6.3.83\n",
            "    Uninstalling nvidia-cusolver-cu12-11.6.3.83:\n",
            "      Successfully uninstalled nvidia-cusolver-cu12-11.6.3.83\n",
            "Successfully installed nvidia-cublas-cu12-12.4.5.8 nvidia-cuda-cupti-cu12-12.4.127 nvidia-cuda-nvrtc-cu12-12.4.127 nvidia-cuda-runtime-cu12-12.4.127 nvidia-cudnn-cu12-9.1.0.70 nvidia-cufft-cu12-11.2.1.3 nvidia-curand-cu12-10.3.5.147 nvidia-cusolver-cu12-11.6.1.9 nvidia-cusparse-cu12-12.3.1.170 nvidia-nvjitlink-cu12-12.4.127\n"
          ]
        }
      ],
      "source": [
        "!pip install torch torchvision"
      ]
    },
    {
      "cell_type": "code",
      "source": [
        "import torch\n",
        "import numpy as np\n",
        "from torch import nn\n"
      ],
      "metadata": {
        "id": "jqZxDCAYF8ku"
      },
      "execution_count": 3,
      "outputs": []
    },
    {
      "cell_type": "code",
      "source": [
        "n_features = 2\n",
        "n_objects = 300\n",
        "\n",
        "torch.manual_seed(0)\n",
        "\n",
        "w_true = torch.randn(n_features)\n",
        "b_true = torch.randn(1)\n",
        "\n",
        "x = (torch.rand(n_objects, n_features) - 0.5) * 10 * (torch.arange(n_features) * 2 + 1)\n",
        "y = torch.matmul(x, w_true) + torch.randn(n_objects) + b_true"
      ],
      "metadata": {
        "id": "7pvouQ77GFRV"
      },
      "execution_count": 4,
      "outputs": []
    },
    {
      "cell_type": "code",
      "source": [
        "x.shape\n"
      ],
      "metadata": {
        "colab": {
          "base_uri": "https://localhost:8080/"
        },
        "id": "7lGX92-dGUN_",
        "outputId": "a3dae8d1-2a09-4bc1-9b36-4ee806e16a23"
      },
      "execution_count": 5,
      "outputs": [
        {
          "output_type": "execute_result",
          "data": {
            "text/plain": [
              "torch.Size([300, 2])"
            ]
          },
          "metadata": {},
          "execution_count": 5
        }
      ]
    },
    {
      "cell_type": "code",
      "source": [
        "y.shape\n"
      ],
      "metadata": {
        "colab": {
          "base_uri": "https://localhost:8080/"
        },
        "id": "RG3MqN8UGVfZ",
        "outputId": "8676635d-63d6-404e-d93a-5bbdb0a83cf5"
      },
      "execution_count": 6,
      "outputs": [
        {
          "output_type": "execute_result",
          "data": {
            "text/plain": [
              "torch.Size([300])"
            ]
          },
          "metadata": {},
          "execution_count": 6
        }
      ]
    },
    {
      "cell_type": "code",
      "source": [
        "n_steps = 200\n",
        "step_size = 1e-2"
      ],
      "metadata": {
        "id": "zoJdsZkjGW3B"
      },
      "execution_count": 7,
      "outputs": []
    },
    {
      "cell_type": "code",
      "source": [
        "w = torch.rand(n_features, requires_grad=True)\n",
        "b = torch.rand(1, requires_grad=True)\n",
        "\n",
        "for i in range(n_steps):\n",
        "    y_pred = torch.matmul(x, w) + b\n",
        "\n",
        "    mse = torch.mean((y_pred - y) ** 2)\n",
        "\n",
        "    if i < 20 or i % 10 == 0:\n",
        "        print(f'MSE on step {i + 1}: {mse.item():.5f}')\n",
        "\n",
        "    mse.backward()\n",
        "\n",
        "#     print(f'{w.grad=}\\n')\n",
        "#     print(f'{b.grad=}\\n')\n",
        "\n",
        "    with torch.no_grad():\n",
        "        w -= w.grad * step_size\n",
        "        b -= b.grad * step_size\n",
        "\n",
        "    w.grad.zero_()\n",
        "    b.grad.zero_()"
      ],
      "metadata": {
        "colab": {
          "base_uri": "https://localhost:8080/"
        },
        "id": "_mh9wJsgGbWd",
        "outputId": "38e836b6-7794-409f-e7b2-6ebe99827df3"
      },
      "execution_count": 12,
      "outputs": [
        {
          "output_type": "stream",
          "name": "stdout",
          "text": [
            "MSE on step 1: 26.34247\n",
            "MSE on step 2: 16.98163\n",
            "MSE on step 3: 13.16658\n",
            "MSE on step 4: 11.28192\n",
            "MSE on step 5: 10.15195\n",
            "MSE on step 6: 9.36814\n",
            "MSE on step 7: 8.77162\n",
            "MSE on step 8: 8.29041\n",
            "MSE on step 9: 7.88633\n",
            "MSE on step 10: 7.53658\n",
            "MSE on step 11: 7.22644\n",
            "MSE on step 12: 6.94607\n",
            "MSE on step 13: 6.68868\n",
            "MSE on step 14: 6.44959\n",
            "MSE on step 15: 6.22547\n",
            "MSE on step 16: 6.01397\n",
            "MSE on step 17: 5.81336\n",
            "MSE on step 18: 5.62241\n",
            "MSE on step 19: 5.44014\n",
            "MSE on step 20: 5.26584\n",
            "MSE on step 21: 5.09893\n",
            "MSE on step 31: 3.75790\n",
            "MSE on step 41: 2.85935\n",
            "MSE on step 51: 2.25599\n",
            "MSE on step 61: 1.85082\n",
            "MSE on step 71: 1.57873\n",
            "MSE on step 81: 1.39601\n",
            "MSE on step 91: 1.27331\n",
            "MSE on step 101: 1.19091\n",
            "MSE on step 111: 1.13557\n",
            "MSE on step 121: 1.09842\n",
            "MSE on step 131: 1.07346\n",
            "MSE on step 141: 1.05671\n",
            "MSE on step 151: 1.04545\n",
            "MSE on step 161: 1.03790\n",
            "MSE on step 171: 1.03282\n",
            "MSE on step 181: 1.02941\n",
            "MSE on step 191: 1.02713\n"
          ]
        }
      ]
    },
    {
      "cell_type": "code",
      "source": [
        "layer = nn.Linear(in_features=n_features, out_features=1)\n",
        "\n",
        "\n",
        "for i in range(n_steps):\n",
        "    y_pred = layer(x)\n",
        "\n",
        "    mse = torch.mean((y_pred - y) ** 2)\n",
        "\n",
        "    if i < 20 or i % 10 == 0:\n",
        "        print(f'MSE on step {i + 1}: {mse.item():.5f}')\n",
        "\n",
        "    mse.backward()\n",
        "\n",
        "    with torch.no_grad():\n",
        "        layer.weight -= layer.weight.grad * step_size\n",
        "        layer.bias -= layer.bias.grad * step_size\n",
        "\n",
        "#     layer.weight.grad.zero_()\n",
        "#     layer.bias.grad.zero_()\n",
        "\n",
        "    layer.zero_grad()"
      ],
      "metadata": {
        "colab": {
          "base_uri": "https://localhost:8080/"
        },
        "id": "PmAlXfCWGdg0",
        "outputId": "f6ad9350-efc7-4a92-e119-de48082852b2"
      },
      "execution_count": 14,
      "outputs": [
        {
          "output_type": "stream",
          "name": "stdout",
          "text": [
            "MSE on step 1: 34.54198\n",
            "MSE on step 2: 32.95632\n",
            "MSE on step 3: 32.17054\n",
            "MSE on step 4: 31.68126\n",
            "MSE on step 5: 31.32002\n",
            "MSE on step 6: 31.02519\n",
            "MSE on step 7: 30.77090\n",
            "MSE on step 8: 30.54433\n",
            "MSE on step 9: 30.33817\n",
            "MSE on step 10: 30.14778\n",
            "MSE on step 11: 29.97005\n",
            "MSE on step 12: 29.80283\n",
            "MSE on step 13: 29.64457\n",
            "MSE on step 14: 29.49416\n",
            "MSE on step 15: 29.35076\n",
            "MSE on step 16: 29.21373\n",
            "MSE on step 17: 29.08260\n",
            "MSE on step 18: 28.95695\n",
            "MSE on step 19: 28.83646\n",
            "MSE on step 20: 28.72084\n",
            "MSE on step 21: 28.60985\n",
            "MSE on step 31: 27.71417\n",
            "MSE on step 41: 27.11309\n",
            "MSE on step 51: 26.70945\n",
            "MSE on step 61: 26.43840\n",
            "MSE on step 71: 26.25638\n",
            "MSE on step 81: 26.13414\n",
            "MSE on step 91: 26.05206\n",
            "MSE on step 101: 25.99694\n",
            "MSE on step 111: 25.95992\n",
            "MSE on step 121: 25.93506\n",
            "MSE on step 131: 25.91837\n",
            "MSE on step 141: 25.90716\n",
            "MSE on step 151: 25.89963\n",
            "MSE on step 161: 25.89457\n",
            "MSE on step 171: 25.89118\n",
            "MSE on step 181: 25.88890\n",
            "MSE on step 191: 25.88737\n"
          ]
        }
      ]
    },
    {
      "cell_type": "code",
      "source": [
        "layer(x).shape"
      ],
      "metadata": {
        "colab": {
          "base_uri": "https://localhost:8080/"
        },
        "id": "gE4uOKbkHQpL",
        "outputId": "8c53a85b-b9fb-4aa3-aefc-e57b98c987c0"
      },
      "execution_count": 16,
      "outputs": [
        {
          "output_type": "execute_result",
          "data": {
            "text/plain": [
              "torch.Size([300, 1])"
            ]
          },
          "metadata": {},
          "execution_count": 16
        }
      ]
    },
    {
      "cell_type": "code",
      "source": [
        "y.shape"
      ],
      "metadata": {
        "colab": {
          "base_uri": "https://localhost:8080/"
        },
        "id": "-cLSaMcIHTK_",
        "outputId": "2c748798-f5b7-4ea2-cdb7-fb55aa4d19e0"
      },
      "execution_count": 17,
      "outputs": [
        {
          "output_type": "execute_result",
          "data": {
            "text/plain": [
              "torch.Size([300])"
            ]
          },
          "metadata": {},
          "execution_count": 17
        }
      ]
    },
    {
      "cell_type": "code",
      "source": [
        "(layer(x) - y).shape"
      ],
      "metadata": {
        "colab": {
          "base_uri": "https://localhost:8080/"
        },
        "id": "6IvSBzLPHTM9",
        "outputId": "8e1b272a-e76c-4b88-da28-0c9ab01a50a6"
      },
      "execution_count": 18,
      "outputs": [
        {
          "output_type": "execute_result",
          "data": {
            "text/plain": [
              "torch.Size([300, 300])"
            ]
          },
          "metadata": {},
          "execution_count": 18
        }
      ]
    },
    {
      "cell_type": "code",
      "source": [
        "layer(x).ravel()"
      ],
      "metadata": {
        "colab": {
          "base_uri": "https://localhost:8080/"
        },
        "id": "ab4u6XsKHTPt",
        "outputId": "e119360d-971e-42a7-eed8-6bb29ff1783e"
      },
      "execution_count": 19,
      "outputs": [
        {
          "output_type": "execute_result",
          "data": {
            "text/plain": [
              "tensor([-2.7234, -2.7227, -2.7258, -2.7250, -2.7211, -2.7246, -2.7227, -2.7271,\n",
              "        -2.7232, -2.7083, -2.7252, -2.7294, -2.7242, -2.7220, -2.7310, -2.7200,\n",
              "        -2.7179, -2.7146, -2.7246, -2.7190, -2.7248, -2.7212, -2.7185, -2.7122,\n",
              "        -2.7153, -2.7243, -2.7195, -2.7280, -2.7158, -2.7222, -2.7212, -2.7258,\n",
              "        -2.7224, -2.7186, -2.7147, -2.7169, -2.7342, -2.7091, -2.7187, -2.7201,\n",
              "        -2.7146, -2.7209, -2.7171, -2.7261, -2.7181, -2.7247, -2.7168, -2.7236,\n",
              "        -2.7293, -2.7234, -2.7225, -2.7280, -2.7315, -2.7106, -2.7236, -2.7213,\n",
              "        -2.7182, -2.7280, -2.7262, -2.7207, -2.7197, -2.7242, -2.7265, -2.7145,\n",
              "        -2.7205, -2.7230, -2.7166, -2.7126, -2.7263, -2.7153, -2.7212, -2.7246,\n",
              "        -2.7260, -2.7112, -2.7115, -2.7208, -2.7218, -2.7242, -2.7226, -2.7272,\n",
              "        -2.7286, -2.7114, -2.7154, -2.7325, -2.7197, -2.7098, -2.7191, -2.7166,\n",
              "        -2.7190, -2.7221, -2.7313, -2.7182, -2.7275, -2.7242, -2.7281, -2.7262,\n",
              "        -2.7244, -2.7239, -2.7301, -2.7290, -2.7188, -2.7202, -2.7189, -2.7220,\n",
              "        -2.7250, -2.7097, -2.7273, -2.7183, -2.7314, -2.7258, -2.7233, -2.7257,\n",
              "        -2.7251, -2.7124, -2.7134, -2.7265, -2.7225, -2.7240, -2.7114, -2.7104,\n",
              "        -2.7201, -2.7265, -2.7125, -2.7243, -2.7323, -2.7216, -2.7294, -2.7209,\n",
              "        -2.7162, -2.7253, -2.7156, -2.7227, -2.7306, -2.7211, -2.7100, -2.7238,\n",
              "        -2.7172, -2.7326, -2.7244, -2.7257, -2.7229, -2.7283, -2.7184, -2.7197,\n",
              "        -2.7111, -2.7158, -2.7264, -2.7270, -2.7154, -2.7221, -2.7171, -2.7274,\n",
              "        -2.7162, -2.7216, -2.7258, -2.7181, -2.7212, -2.7284, -2.7202, -2.7169,\n",
              "        -2.7145, -2.7236, -2.7161, -2.7293, -2.7202, -2.7180, -2.7212, -2.7172,\n",
              "        -2.7314, -2.7201, -2.7282, -2.7286, -2.7249, -2.7220, -2.7268, -2.7285,\n",
              "        -2.7216, -2.7325, -2.7217, -2.7094, -2.7262, -2.7307, -2.7250, -2.7264,\n",
              "        -2.7187, -2.7193, -2.7121, -2.7224, -2.7239, -2.7202, -2.7269, -2.7189,\n",
              "        -2.7230, -2.7316, -2.7144, -2.7305, -2.7161, -2.7304, -2.7135, -2.7172,\n",
              "        -2.7275, -2.7252, -2.7141, -2.7255, -2.7225, -2.7255, -2.7173, -2.7234,\n",
              "        -2.7119, -2.7186, -2.7269, -2.7294, -2.7143, -2.7250, -2.7151, -2.7119,\n",
              "        -2.7241, -2.7267, -2.7340, -2.7263, -2.7158, -2.7170, -2.7154, -2.7315,\n",
              "        -2.7234, -2.7265, -2.7275, -2.7150, -2.7214, -2.7163, -2.7262, -2.7229,\n",
              "        -2.7156, -2.7127, -2.7312, -2.7288, -2.7245, -2.7312, -2.7264, -2.7189,\n",
              "        -2.7192, -2.7238, -2.7131, -2.7134, -2.7254, -2.7186, -2.7331, -2.7202,\n",
              "        -2.7109, -2.7208, -2.7256, -2.7271, -2.7215, -2.7210, -2.7259, -2.7157,\n",
              "        -2.7172, -2.7142, -2.7235, -2.7118, -2.7185, -2.7180, -2.7232, -2.7277,\n",
              "        -2.7198, -2.7253, -2.7269, -2.7205, -2.7246, -2.7273, -2.7298, -2.7241,\n",
              "        -2.7092, -2.7191, -2.7218, -2.7160, -2.7263, -2.7269, -2.7320, -2.7221,\n",
              "        -2.7172, -2.7171, -2.7201, -2.7264, -2.7190, -2.7231, -2.7191, -2.7304,\n",
              "        -2.7191, -2.7216, -2.7187, -2.7176, -2.7342, -2.7198, -2.7338, -2.7180,\n",
              "        -2.7264, -2.7324, -2.7224, -2.7141], grad_fn=<ViewBackward0>)"
            ]
          },
          "metadata": {},
          "execution_count": 19
        }
      ]
    },
    {
      "cell_type": "code",
      "source": [
        "(layer(x).ravel() - y).shape"
      ],
      "metadata": {
        "colab": {
          "base_uri": "https://localhost:8080/"
        },
        "id": "mxhz7Eq_Hci9",
        "outputId": "3c0eea1b-64ee-4a4f-8a8f-a69b75429c42"
      },
      "execution_count": 20,
      "outputs": [
        {
          "output_type": "execute_result",
          "data": {
            "text/plain": [
              "torch.Size([300])"
            ]
          },
          "metadata": {},
          "execution_count": 20
        }
      ]
    },
    {
      "cell_type": "code",
      "source": [
        "layer = nn.Linear(in_features=n_features, out_features=1)\n",
        "\n",
        "for i in range(n_steps):\n",
        "    y_pred = layer(x).ravel()\n",
        "\n",
        "    mse = torch.mean((y_pred - y) ** 2)\n",
        "\n",
        "    if i < 20 or i % 10 == 0:\n",
        "        print(f'MSE on step {i + 1}: {mse.item():.5f}')\n",
        "\n",
        "    mse.backward()\n",
        "\n",
        "    with torch.no_grad():\n",
        "        layer.weight -= layer.weight.grad * step_size\n",
        "        layer.bias -= layer.bias.grad * step_size\n",
        "\n",
        "    layer.zero_grad()"
      ],
      "metadata": {
        "colab": {
          "base_uri": "https://localhost:8080/"
        },
        "id": "xKuZXDlzHeg7",
        "outputId": "d9e899ff-6ed2-4bc4-ce68-88ec62505ed9"
      },
      "execution_count": 21,
      "outputs": [
        {
          "output_type": "stream",
          "name": "stdout",
          "text": [
            "MSE on step 1: 42.20728\n",
            "MSE on step 2: 24.47946\n",
            "MSE on step 3: 16.02505\n",
            "MSE on step 4: 11.34450\n",
            "MSE on step 5: 8.46286\n",
            "MSE on step 6: 6.57412\n",
            "MSE on step 7: 5.29301\n",
            "MSE on step 8: 4.40651\n",
            "MSE on step 9: 3.78421\n",
            "MSE on step 10: 3.34150\n",
            "MSE on step 11: 3.02185\n",
            "MSE on step 12: 2.78694\n",
            "MSE on step 13: 2.61064\n",
            "MSE on step 14: 2.47508\n",
            "MSE on step 15: 2.36798\n",
            "MSE on step 16: 2.28095\n",
            "MSE on step 17: 2.20818\n",
            "MSE on step 18: 2.14570\n",
            "MSE on step 19: 2.09076\n",
            "MSE on step 20: 2.04146\n",
            "MSE on step 21: 1.99648\n",
            "MSE on step 31: 1.66817\n",
            "MSE on step 41: 1.45588\n",
            "MSE on step 51: 1.31351\n",
            "MSE on step 61: 1.21790\n",
            "MSE on step 71: 1.15370\n",
            "MSE on step 81: 1.11059\n",
            "MSE on step 91: 1.08164\n",
            "MSE on step 101: 1.06220\n",
            "MSE on step 111: 1.04914\n",
            "MSE on step 121: 1.04037\n",
            "MSE on step 131: 1.03448\n",
            "MSE on step 141: 1.03053\n",
            "MSE on step 151: 1.02788\n",
            "MSE on step 161: 1.02609\n",
            "MSE on step 171: 1.02490\n",
            "MSE on step 181: 1.02409\n",
            "MSE on step 191: 1.02355\n"
          ]
        }
      ]
    },
    {
      "cell_type": "code",
      "source": [],
      "metadata": {
        "id": "YjP8nP6OHq7_"
      },
      "execution_count": null,
      "outputs": []
    },
    {
      "cell_type": "code",
      "source": [],
      "metadata": {
        "id": "WMliRzCCUJYZ"
      },
      "execution_count": null,
      "outputs": []
    },
    {
      "cell_type": "markdown",
      "source": [
        "### Dataset"
      ],
      "metadata": {
        "id": "zzCn4SfQUJi0"
      }
    },
    {
      "cell_type": "markdown",
      "source": [
        "1. Go to your [Kaggle](https://www.kaggle.com/settings) account, Scroll to API section and Click Expire API Token to remove previous tokens\n",
        "\n",
        "2. Click on Create New API Token - It will download kaggle.json file on your machine.\n",
        "\n",
        "3. Add Kaggle username and token to Secrets and allow acess."
      ],
      "metadata": {
        "id": "IPu3YSMlYRIU"
      }
    },
    {
      "cell_type": "code",
      "source": [
        "from google.colab import userdata\n",
        "import os\n",
        "\n",
        "os.environ[\"KAGGLE_KEY\"] = userdata.get('KAGGLE_KEY')\n",
        "os.environ[\"KAGGLE_USERNAME\"] = userdata.get('KAGGLE_USERNAME')"
      ],
      "metadata": {
        "id": "Yncg7n4hUMQ3"
      },
      "execution_count": 27,
      "outputs": []
    },
    {
      "cell_type": "code",
      "source": [
        "!kaggle datasets download jayaantanaath/student-habits-vs-academic-performance\n",
        "! unzip \"student-habits-vs-academic-performance.zip\""
      ],
      "metadata": {
        "colab": {
          "base_uri": "https://localhost:8080/"
        },
        "id": "_FyzCGC-USiu",
        "outputId": "a2022f29-e743-4e67-cbd4-9b9e872f6ddb"
      },
      "execution_count": 28,
      "outputs": [
        {
          "output_type": "stream",
          "name": "stdout",
          "text": [
            "Dataset URL: https://www.kaggle.com/datasets/jayaantanaath/student-habits-vs-academic-performance\n",
            "License(s): apache-2.0\n",
            "Downloading student-habits-vs-academic-performance.zip to /content\n",
            "  0% 0.00/19.1k [00:00<?, ?B/s]\n",
            "100% 19.1k/19.1k [00:00<00:00, 37.6MB/s]\n",
            "Archive:  student-habits-vs-academic-performance.zip\n",
            "  inflating: student_habits_performance.csv  \n"
          ]
        }
      ]
    },
    {
      "cell_type": "code",
      "source": [
        "import pandas as pd\n",
        "import numpy as np\n",
        "import matplotlib.pyplot as plt\n",
        "import seaborn as sns\n",
        "\n",
        "from sklearn.linear_model import LinearRegression\n",
        "from sklearn.pipeline import Pipeline\n",
        "from sklearn.model_selection import GridSearchCV, train_test_split\n",
        "from sklearn.metrics import mean_squared_error\n",
        "\n",
        "import torch, torch.nn as nn\n",
        "from torch.utils.data import TensorDataset, DataLoader\n",
        "from torch.optim.lr_scheduler import StepLR\n",
        "import random\n",
        "random.seed(0)"
      ],
      "metadata": {
        "id": "SSWQxIKyUpEv"
      },
      "execution_count": 33,
      "outputs": []
    },
    {
      "cell_type": "code",
      "source": [
        "df = pd.read_csv('/content/student_habits_performance.csv')\n",
        "df = pd.DataFrame(df)\n",
        "df.head()"
      ],
      "metadata": {
        "colab": {
          "base_uri": "https://localhost:8080/",
          "height": 226
        },
        "id": "xeSmxfcFUuyL",
        "outputId": "9c88e370-334f-46a0-8e15-a76abc4e1f39"
      },
      "execution_count": 31,
      "outputs": [
        {
          "output_type": "execute_result",
          "data": {
            "text/plain": [
              "  student_id  age  gender  study_hours_per_day  social_media_hours  \\\n",
              "0      S1000   23  Female                  0.0                 1.2   \n",
              "1      S1001   20  Female                  6.9                 2.8   \n",
              "2      S1002   21    Male                  1.4                 3.1   \n",
              "3      S1003   23  Female                  1.0                 3.9   \n",
              "4      S1004   19  Female                  5.0                 4.4   \n",
              "\n",
              "   netflix_hours part_time_job  attendance_percentage  sleep_hours  \\\n",
              "0            1.1            No                   85.0          8.0   \n",
              "1            2.3            No                   97.3          4.6   \n",
              "2            1.3            No                   94.8          8.0   \n",
              "3            1.0            No                   71.0          9.2   \n",
              "4            0.5            No                   90.9          4.9   \n",
              "\n",
              "  diet_quality  exercise_frequency parental_education_level internet_quality  \\\n",
              "0         Fair                   6                   Master          Average   \n",
              "1         Good                   6              High School          Average   \n",
              "2         Poor                   1              High School             Poor   \n",
              "3         Poor                   4                   Master             Good   \n",
              "4         Fair                   3                   Master             Good   \n",
              "\n",
              "   mental_health_rating extracurricular_participation  exam_score  \n",
              "0                     8                           Yes        56.2  \n",
              "1                     8                            No       100.0  \n",
              "2                     1                            No        34.3  \n",
              "3                     1                           Yes        26.8  \n",
              "4                     1                            No        66.4  "
            ],
            "text/html": [
              "\n",
              "  <div id=\"df-329d3fb3-abf1-4f4d-a7fb-42312e9345c7\" class=\"colab-df-container\">\n",
              "    <div>\n",
              "<style scoped>\n",
              "    .dataframe tbody tr th:only-of-type {\n",
              "        vertical-align: middle;\n",
              "    }\n",
              "\n",
              "    .dataframe tbody tr th {\n",
              "        vertical-align: top;\n",
              "    }\n",
              "\n",
              "    .dataframe thead th {\n",
              "        text-align: right;\n",
              "    }\n",
              "</style>\n",
              "<table border=\"1\" class=\"dataframe\">\n",
              "  <thead>\n",
              "    <tr style=\"text-align: right;\">\n",
              "      <th></th>\n",
              "      <th>student_id</th>\n",
              "      <th>age</th>\n",
              "      <th>gender</th>\n",
              "      <th>study_hours_per_day</th>\n",
              "      <th>social_media_hours</th>\n",
              "      <th>netflix_hours</th>\n",
              "      <th>part_time_job</th>\n",
              "      <th>attendance_percentage</th>\n",
              "      <th>sleep_hours</th>\n",
              "      <th>diet_quality</th>\n",
              "      <th>exercise_frequency</th>\n",
              "      <th>parental_education_level</th>\n",
              "      <th>internet_quality</th>\n",
              "      <th>mental_health_rating</th>\n",
              "      <th>extracurricular_participation</th>\n",
              "      <th>exam_score</th>\n",
              "    </tr>\n",
              "  </thead>\n",
              "  <tbody>\n",
              "    <tr>\n",
              "      <th>0</th>\n",
              "      <td>S1000</td>\n",
              "      <td>23</td>\n",
              "      <td>Female</td>\n",
              "      <td>0.0</td>\n",
              "      <td>1.2</td>\n",
              "      <td>1.1</td>\n",
              "      <td>No</td>\n",
              "      <td>85.0</td>\n",
              "      <td>8.0</td>\n",
              "      <td>Fair</td>\n",
              "      <td>6</td>\n",
              "      <td>Master</td>\n",
              "      <td>Average</td>\n",
              "      <td>8</td>\n",
              "      <td>Yes</td>\n",
              "      <td>56.2</td>\n",
              "    </tr>\n",
              "    <tr>\n",
              "      <th>1</th>\n",
              "      <td>S1001</td>\n",
              "      <td>20</td>\n",
              "      <td>Female</td>\n",
              "      <td>6.9</td>\n",
              "      <td>2.8</td>\n",
              "      <td>2.3</td>\n",
              "      <td>No</td>\n",
              "      <td>97.3</td>\n",
              "      <td>4.6</td>\n",
              "      <td>Good</td>\n",
              "      <td>6</td>\n",
              "      <td>High School</td>\n",
              "      <td>Average</td>\n",
              "      <td>8</td>\n",
              "      <td>No</td>\n",
              "      <td>100.0</td>\n",
              "    </tr>\n",
              "    <tr>\n",
              "      <th>2</th>\n",
              "      <td>S1002</td>\n",
              "      <td>21</td>\n",
              "      <td>Male</td>\n",
              "      <td>1.4</td>\n",
              "      <td>3.1</td>\n",
              "      <td>1.3</td>\n",
              "      <td>No</td>\n",
              "      <td>94.8</td>\n",
              "      <td>8.0</td>\n",
              "      <td>Poor</td>\n",
              "      <td>1</td>\n",
              "      <td>High School</td>\n",
              "      <td>Poor</td>\n",
              "      <td>1</td>\n",
              "      <td>No</td>\n",
              "      <td>34.3</td>\n",
              "    </tr>\n",
              "    <tr>\n",
              "      <th>3</th>\n",
              "      <td>S1003</td>\n",
              "      <td>23</td>\n",
              "      <td>Female</td>\n",
              "      <td>1.0</td>\n",
              "      <td>3.9</td>\n",
              "      <td>1.0</td>\n",
              "      <td>No</td>\n",
              "      <td>71.0</td>\n",
              "      <td>9.2</td>\n",
              "      <td>Poor</td>\n",
              "      <td>4</td>\n",
              "      <td>Master</td>\n",
              "      <td>Good</td>\n",
              "      <td>1</td>\n",
              "      <td>Yes</td>\n",
              "      <td>26.8</td>\n",
              "    </tr>\n",
              "    <tr>\n",
              "      <th>4</th>\n",
              "      <td>S1004</td>\n",
              "      <td>19</td>\n",
              "      <td>Female</td>\n",
              "      <td>5.0</td>\n",
              "      <td>4.4</td>\n",
              "      <td>0.5</td>\n",
              "      <td>No</td>\n",
              "      <td>90.9</td>\n",
              "      <td>4.9</td>\n",
              "      <td>Fair</td>\n",
              "      <td>3</td>\n",
              "      <td>Master</td>\n",
              "      <td>Good</td>\n",
              "      <td>1</td>\n",
              "      <td>No</td>\n",
              "      <td>66.4</td>\n",
              "    </tr>\n",
              "  </tbody>\n",
              "</table>\n",
              "</div>\n",
              "    <div class=\"colab-df-buttons\">\n",
              "\n",
              "  <div class=\"colab-df-container\">\n",
              "    <button class=\"colab-df-convert\" onclick=\"convertToInteractive('df-329d3fb3-abf1-4f4d-a7fb-42312e9345c7')\"\n",
              "            title=\"Convert this dataframe to an interactive table.\"\n",
              "            style=\"display:none;\">\n",
              "\n",
              "  <svg xmlns=\"http://www.w3.org/2000/svg\" height=\"24px\" viewBox=\"0 -960 960 960\">\n",
              "    <path d=\"M120-120v-720h720v720H120Zm60-500h600v-160H180v160Zm220 220h160v-160H400v160Zm0 220h160v-160H400v160ZM180-400h160v-160H180v160Zm440 0h160v-160H620v160ZM180-180h160v-160H180v160Zm440 0h160v-160H620v160Z\"/>\n",
              "  </svg>\n",
              "    </button>\n",
              "\n",
              "  <style>\n",
              "    .colab-df-container {\n",
              "      display:flex;\n",
              "      gap: 12px;\n",
              "    }\n",
              "\n",
              "    .colab-df-convert {\n",
              "      background-color: #E8F0FE;\n",
              "      border: none;\n",
              "      border-radius: 50%;\n",
              "      cursor: pointer;\n",
              "      display: none;\n",
              "      fill: #1967D2;\n",
              "      height: 32px;\n",
              "      padding: 0 0 0 0;\n",
              "      width: 32px;\n",
              "    }\n",
              "\n",
              "    .colab-df-convert:hover {\n",
              "      background-color: #E2EBFA;\n",
              "      box-shadow: 0px 1px 2px rgba(60, 64, 67, 0.3), 0px 1px 3px 1px rgba(60, 64, 67, 0.15);\n",
              "      fill: #174EA6;\n",
              "    }\n",
              "\n",
              "    .colab-df-buttons div {\n",
              "      margin-bottom: 4px;\n",
              "    }\n",
              "\n",
              "    [theme=dark] .colab-df-convert {\n",
              "      background-color: #3B4455;\n",
              "      fill: #D2E3FC;\n",
              "    }\n",
              "\n",
              "    [theme=dark] .colab-df-convert:hover {\n",
              "      background-color: #434B5C;\n",
              "      box-shadow: 0px 1px 3px 1px rgba(0, 0, 0, 0.15);\n",
              "      filter: drop-shadow(0px 1px 2px rgba(0, 0, 0, 0.3));\n",
              "      fill: #FFFFFF;\n",
              "    }\n",
              "  </style>\n",
              "\n",
              "    <script>\n",
              "      const buttonEl =\n",
              "        document.querySelector('#df-329d3fb3-abf1-4f4d-a7fb-42312e9345c7 button.colab-df-convert');\n",
              "      buttonEl.style.display =\n",
              "        google.colab.kernel.accessAllowed ? 'block' : 'none';\n",
              "\n",
              "      async function convertToInteractive(key) {\n",
              "        const element = document.querySelector('#df-329d3fb3-abf1-4f4d-a7fb-42312e9345c7');\n",
              "        const dataTable =\n",
              "          await google.colab.kernel.invokeFunction('convertToInteractive',\n",
              "                                                    [key], {});\n",
              "        if (!dataTable) return;\n",
              "\n",
              "        const docLinkHtml = 'Like what you see? Visit the ' +\n",
              "          '<a target=\"_blank\" href=https://colab.research.google.com/notebooks/data_table.ipynb>data table notebook</a>'\n",
              "          + ' to learn more about interactive tables.';\n",
              "        element.innerHTML = '';\n",
              "        dataTable['output_type'] = 'display_data';\n",
              "        await google.colab.output.renderOutput(dataTable, element);\n",
              "        const docLink = document.createElement('div');\n",
              "        docLink.innerHTML = docLinkHtml;\n",
              "        element.appendChild(docLink);\n",
              "      }\n",
              "    </script>\n",
              "  </div>\n",
              "\n",
              "\n",
              "    <div id=\"df-ce57d705-6460-4f78-ab7f-2ec4437cdf12\">\n",
              "      <button class=\"colab-df-quickchart\" onclick=\"quickchart('df-ce57d705-6460-4f78-ab7f-2ec4437cdf12')\"\n",
              "                title=\"Suggest charts\"\n",
              "                style=\"display:none;\">\n",
              "\n",
              "<svg xmlns=\"http://www.w3.org/2000/svg\" height=\"24px\"viewBox=\"0 0 24 24\"\n",
              "     width=\"24px\">\n",
              "    <g>\n",
              "        <path d=\"M19 3H5c-1.1 0-2 .9-2 2v14c0 1.1.9 2 2 2h14c1.1 0 2-.9 2-2V5c0-1.1-.9-2-2-2zM9 17H7v-7h2v7zm4 0h-2V7h2v10zm4 0h-2v-4h2v4z\"/>\n",
              "    </g>\n",
              "</svg>\n",
              "      </button>\n",
              "\n",
              "<style>\n",
              "  .colab-df-quickchart {\n",
              "      --bg-color: #E8F0FE;\n",
              "      --fill-color: #1967D2;\n",
              "      --hover-bg-color: #E2EBFA;\n",
              "      --hover-fill-color: #174EA6;\n",
              "      --disabled-fill-color: #AAA;\n",
              "      --disabled-bg-color: #DDD;\n",
              "  }\n",
              "\n",
              "  [theme=dark] .colab-df-quickchart {\n",
              "      --bg-color: #3B4455;\n",
              "      --fill-color: #D2E3FC;\n",
              "      --hover-bg-color: #434B5C;\n",
              "      --hover-fill-color: #FFFFFF;\n",
              "      --disabled-bg-color: #3B4455;\n",
              "      --disabled-fill-color: #666;\n",
              "  }\n",
              "\n",
              "  .colab-df-quickchart {\n",
              "    background-color: var(--bg-color);\n",
              "    border: none;\n",
              "    border-radius: 50%;\n",
              "    cursor: pointer;\n",
              "    display: none;\n",
              "    fill: var(--fill-color);\n",
              "    height: 32px;\n",
              "    padding: 0;\n",
              "    width: 32px;\n",
              "  }\n",
              "\n",
              "  .colab-df-quickchart:hover {\n",
              "    background-color: var(--hover-bg-color);\n",
              "    box-shadow: 0 1px 2px rgba(60, 64, 67, 0.3), 0 1px 3px 1px rgba(60, 64, 67, 0.15);\n",
              "    fill: var(--button-hover-fill-color);\n",
              "  }\n",
              "\n",
              "  .colab-df-quickchart-complete:disabled,\n",
              "  .colab-df-quickchart-complete:disabled:hover {\n",
              "    background-color: var(--disabled-bg-color);\n",
              "    fill: var(--disabled-fill-color);\n",
              "    box-shadow: none;\n",
              "  }\n",
              "\n",
              "  .colab-df-spinner {\n",
              "    border: 2px solid var(--fill-color);\n",
              "    border-color: transparent;\n",
              "    border-bottom-color: var(--fill-color);\n",
              "    animation:\n",
              "      spin 1s steps(1) infinite;\n",
              "  }\n",
              "\n",
              "  @keyframes spin {\n",
              "    0% {\n",
              "      border-color: transparent;\n",
              "      border-bottom-color: var(--fill-color);\n",
              "      border-left-color: var(--fill-color);\n",
              "    }\n",
              "    20% {\n",
              "      border-color: transparent;\n",
              "      border-left-color: var(--fill-color);\n",
              "      border-top-color: var(--fill-color);\n",
              "    }\n",
              "    30% {\n",
              "      border-color: transparent;\n",
              "      border-left-color: var(--fill-color);\n",
              "      border-top-color: var(--fill-color);\n",
              "      border-right-color: var(--fill-color);\n",
              "    }\n",
              "    40% {\n",
              "      border-color: transparent;\n",
              "      border-right-color: var(--fill-color);\n",
              "      border-top-color: var(--fill-color);\n",
              "    }\n",
              "    60% {\n",
              "      border-color: transparent;\n",
              "      border-right-color: var(--fill-color);\n",
              "    }\n",
              "    80% {\n",
              "      border-color: transparent;\n",
              "      border-right-color: var(--fill-color);\n",
              "      border-bottom-color: var(--fill-color);\n",
              "    }\n",
              "    90% {\n",
              "      border-color: transparent;\n",
              "      border-bottom-color: var(--fill-color);\n",
              "    }\n",
              "  }\n",
              "</style>\n",
              "\n",
              "      <script>\n",
              "        async function quickchart(key) {\n",
              "          const quickchartButtonEl =\n",
              "            document.querySelector('#' + key + ' button');\n",
              "          quickchartButtonEl.disabled = true;  // To prevent multiple clicks.\n",
              "          quickchartButtonEl.classList.add('colab-df-spinner');\n",
              "          try {\n",
              "            const charts = await google.colab.kernel.invokeFunction(\n",
              "                'suggestCharts', [key], {});\n",
              "          } catch (error) {\n",
              "            console.error('Error during call to suggestCharts:', error);\n",
              "          }\n",
              "          quickchartButtonEl.classList.remove('colab-df-spinner');\n",
              "          quickchartButtonEl.classList.add('colab-df-quickchart-complete');\n",
              "        }\n",
              "        (() => {\n",
              "          let quickchartButtonEl =\n",
              "            document.querySelector('#df-ce57d705-6460-4f78-ab7f-2ec4437cdf12 button');\n",
              "          quickchartButtonEl.style.display =\n",
              "            google.colab.kernel.accessAllowed ? 'block' : 'none';\n",
              "        })();\n",
              "      </script>\n",
              "    </div>\n",
              "\n",
              "    </div>\n",
              "  </div>\n"
            ],
            "application/vnd.google.colaboratory.intrinsic+json": {
              "type": "dataframe",
              "variable_name": "df",
              "summary": "{\n  \"name\": \"df\",\n  \"rows\": 1000,\n  \"fields\": [\n    {\n      \"column\": \"student_id\",\n      \"properties\": {\n        \"dtype\": \"string\",\n        \"num_unique_values\": 1000,\n        \"samples\": [\n          \"S1521\",\n          \"S1737\",\n          \"S1740\"\n        ],\n        \"semantic_type\": \"\",\n        \"description\": \"\"\n      }\n    },\n    {\n      \"column\": \"age\",\n      \"properties\": {\n        \"dtype\": \"number\",\n        \"std\": 2,\n        \"min\": 17,\n        \"max\": 24,\n        \"num_unique_values\": 8,\n        \"samples\": [\n          20,\n          18,\n          23\n        ],\n        \"semantic_type\": \"\",\n        \"description\": \"\"\n      }\n    },\n    {\n      \"column\": \"gender\",\n      \"properties\": {\n        \"dtype\": \"category\",\n        \"num_unique_values\": 3,\n        \"samples\": [\n          \"Female\",\n          \"Male\",\n          \"Other\"\n        ],\n        \"semantic_type\": \"\",\n        \"description\": \"\"\n      }\n    },\n    {\n      \"column\": \"study_hours_per_day\",\n      \"properties\": {\n        \"dtype\": \"number\",\n        \"std\": 1.4688899303990155,\n        \"min\": 0.0,\n        \"max\": 8.3,\n        \"num_unique_values\": 78,\n        \"samples\": [\n          5.4,\n          0.0,\n          2.2\n        ],\n        \"semantic_type\": \"\",\n        \"description\": \"\"\n      }\n    },\n    {\n      \"column\": \"social_media_hours\",\n      \"properties\": {\n        \"dtype\": \"number\",\n        \"std\": 1.1724224171877315,\n        \"min\": 0.0,\n        \"max\": 7.2,\n        \"num_unique_values\": 60,\n        \"samples\": [\n          1.2,\n          1.3,\n          0.1\n        ],\n        \"semantic_type\": \"\",\n        \"description\": \"\"\n      }\n    },\n    {\n      \"column\": \"netflix_hours\",\n      \"properties\": {\n        \"dtype\": \"number\",\n        \"std\": 1.0751175692861612,\n        \"min\": 0.0,\n        \"max\": 5.4,\n        \"num_unique_values\": 51,\n        \"samples\": [\n          0.3,\n          3.7,\n          4.6\n        ],\n        \"semantic_type\": \"\",\n        \"description\": \"\"\n      }\n    },\n    {\n      \"column\": \"part_time_job\",\n      \"properties\": {\n        \"dtype\": \"category\",\n        \"num_unique_values\": 2,\n        \"samples\": [\n          \"Yes\",\n          \"No\"\n        ],\n        \"semantic_type\": \"\",\n        \"description\": \"\"\n      }\n    },\n    {\n      \"column\": \"attendance_percentage\",\n      \"properties\": {\n        \"dtype\": \"number\",\n        \"std\": 9.399246296429354,\n        \"min\": 56.0,\n        \"max\": 100.0,\n        \"num_unique_values\": 320,\n        \"samples\": [\n          75.7,\n          90.3\n        ],\n        \"semantic_type\": \"\",\n        \"description\": \"\"\n      }\n    },\n    {\n      \"column\": \"sleep_hours\",\n      \"properties\": {\n        \"dtype\": \"number\",\n        \"std\": 1.226376773259339,\n        \"min\": 3.2,\n        \"max\": 10.0,\n        \"num_unique_values\": 68,\n        \"samples\": [\n          8.2,\n          6.0\n        ],\n        \"semantic_type\": \"\",\n        \"description\": \"\"\n      }\n    },\n    {\n      \"column\": \"diet_quality\",\n      \"properties\": {\n        \"dtype\": \"category\",\n        \"num_unique_values\": 3,\n        \"samples\": [\n          \"Fair\",\n          \"Good\"\n        ],\n        \"semantic_type\": \"\",\n        \"description\": \"\"\n      }\n    },\n    {\n      \"column\": \"exercise_frequency\",\n      \"properties\": {\n        \"dtype\": \"number\",\n        \"std\": 2,\n        \"min\": 0,\n        \"max\": 6,\n        \"num_unique_values\": 7,\n        \"samples\": [\n          6,\n          1\n        ],\n        \"semantic_type\": \"\",\n        \"description\": \"\"\n      }\n    },\n    {\n      \"column\": \"parental_education_level\",\n      \"properties\": {\n        \"dtype\": \"category\",\n        \"num_unique_values\": 3,\n        \"samples\": [\n          \"Master\",\n          \"High School\"\n        ],\n        \"semantic_type\": \"\",\n        \"description\": \"\"\n      }\n    },\n    {\n      \"column\": \"internet_quality\",\n      \"properties\": {\n        \"dtype\": \"category\",\n        \"num_unique_values\": 3,\n        \"samples\": [\n          \"Average\",\n          \"Poor\"\n        ],\n        \"semantic_type\": \"\",\n        \"description\": \"\"\n      }\n    },\n    {\n      \"column\": \"mental_health_rating\",\n      \"properties\": {\n        \"dtype\": \"number\",\n        \"std\": 2,\n        \"min\": 1,\n        \"max\": 10,\n        \"num_unique_values\": 10,\n        \"samples\": [\n          2,\n          1\n        ],\n        \"semantic_type\": \"\",\n        \"description\": \"\"\n      }\n    },\n    {\n      \"column\": \"extracurricular_participation\",\n      \"properties\": {\n        \"dtype\": \"category\",\n        \"num_unique_values\": 2,\n        \"samples\": [\n          \"No\",\n          \"Yes\"\n        ],\n        \"semantic_type\": \"\",\n        \"description\": \"\"\n      }\n    },\n    {\n      \"column\": \"exam_score\",\n      \"properties\": {\n        \"dtype\": \"number\",\n        \"std\": 16.88856392181825,\n        \"min\": 18.4,\n        \"max\": 100.0,\n        \"num_unique_values\": 480,\n        \"samples\": [\n          53.5,\n          59.3\n        ],\n        \"semantic_type\": \"\",\n        \"description\": \"\"\n      }\n    }\n  ]\n}"
            }
          },
          "metadata": {},
          "execution_count": 31
        }
      ]
    },
    {
      "cell_type": "code",
      "source": [
        "# Try attaching to GPU -- Use \"Change Runtime Type to change to GPUT\"\n",
        "DEVICE = str(torch.device('cuda' if torch.cuda.is_available() else 'cpu'))\n",
        "print('Using:', DEVICE)"
      ],
      "metadata": {
        "colab": {
          "base_uri": "https://localhost:8080/"
        },
        "id": "pZkKseiMZKFq",
        "outputId": "b2e9b17a-9b60-4607-ced2-e6ffb9f78b3f"
      },
      "execution_count": 32,
      "outputs": [
        {
          "output_type": "stream",
          "name": "stdout",
          "text": [
            "Using: cpu\n"
          ]
        }
      ]
    },
    {
      "cell_type": "code",
      "source": [],
      "metadata": {
        "id": "BPQQP_0iZaAb"
      },
      "execution_count": null,
      "outputs": []
    },
    {
      "cell_type": "code",
      "source": [],
      "metadata": {
        "id": "i1p_0VujZaD5"
      },
      "execution_count": null,
      "outputs": []
    },
    {
      "cell_type": "code",
      "source": [],
      "metadata": {
        "id": "IAC_TaovZaGo"
      },
      "execution_count": null,
      "outputs": []
    },
    {
      "cell_type": "markdown",
      "source": [
        "### DDescet"
      ],
      "metadata": {
        "id": "cmynMLS93145"
      }
    },
    {
      "cell_type": "code",
      "source": [
        "bjsdhfkahdjandlf"
      ],
      "metadata": {
        "id": "Vi0xvjIT36JZ"
      },
      "execution_count": null,
      "outputs": []
    }
  ]
}